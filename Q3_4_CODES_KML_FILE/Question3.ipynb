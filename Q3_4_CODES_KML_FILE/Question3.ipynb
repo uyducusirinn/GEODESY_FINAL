{
  "nbformat": 4,
  "nbformat_minor": 0,
  "metadata": {
    "colab": {
      "name": "Untitled4.ipynb",
      "provenance": [],
      "collapsed_sections": []
    },
    "kernelspec": {
      "name": "python3",
      "display_name": "Python 3"
    },
    "language_info": {
      "name": "python"
    }
  },
  "cells": [
    {
      "cell_type": "markdown",
      "metadata": {
        "id": "lN0BE8tLO42H"
      },
      "source": [
        "QUESTION_3 SOLUTION PYTHON CODE"
      ]
    },
    {
      "cell_type": "code",
      "metadata": {
        "id": "7F0eaizbOz7E"
      },
      "source": [
        "!pip install geographiclib"
      ],
      "execution_count": null,
      "outputs": []
    },
    {
      "cell_type": "code",
      "metadata": {
        "colab": {
          "base_uri": "https://localhost:8080/"
        },
        "id": "-mNkzFjhrU4p",
        "outputId": "b70d9dc1-c4b0-47bd-99a9-ace36b413688"
      },
      "source": [
        "!python -m unittest geographiclib.test.test_geodesic"
      ],
      "execution_count": 3,
      "outputs": [
        {
          "output_type": "stream",
          "text": [
            ".........................................\n",
            "----------------------------------------------------------------------\n",
            "Ran 41 tests in 0.032s\n",
            "\n",
            "OK\n"
          ],
          "name": "stdout"
        }
      ]
    },
    {
      "cell_type": "code",
      "metadata": {
        "id": "9nWV_ygdrdZp"
      },
      "source": [
        "from geographiclib.geodesic import Geodesic\n",
        "import math\n",
        "geod = Geodesic.WGS84 "
      ],
      "execution_count": 4,
      "outputs": []
    },
    {
      "cell_type": "code",
      "metadata": {
        "id": "WTRY-qeprl9P"
      },
      "source": [
        "geod = Geodesic(6378388, 1/297.0) # the international ellipsoid"
      ],
      "execution_count": 5,
      "outputs": []
    },
    {
      "cell_type": "code",
      "metadata": {
        "colab": {
          "base_uri": "https://localhost:8080/"
        },
        "id": "BaNuWHM6r9Lk",
        "outputId": "e7e02a94-d789-4857-9cce-474edd7c8061"
      },
      "source": [
        "l = geod.InverseLine(39.8871, 32.7582, 24.5519, -81.8065)\n",
        ">>> ds = 1000e3; n = int(math.ceil(l.s13 / ds))\n",
        ">>> for i in range(n + 1):\n",
        "...   if i == 0:\n",
        "...     print(\"distance latitude longitude azimuth\")\n",
        "...   s = min(ds * i, l.s13)\n",
        "...   g = l.Position(s, Geodesic.STANDARD | Geodesic.LONG_UNROLL)\n",
        "...   print(\"{:.0f} {:.5f} {:.5f} {:.5f}\".format(\n",
        "...     g['s12'], g['lat2'], g['lon2'], g['azi2']))"
      ],
      "execution_count": 9,
      "outputs": [
        {
          "output_type": "stream",
          "text": [
            "distance latitude longitude azimuth\n",
            "0 39.88710 32.75820 -55.76745\n",
            "1000000 44.50268 22.34782 -62.77592\n",
            "2000000 48.01863 10.39026 -71.43429\n",
            "3000000 50.13322 -2.93347 -81.52266\n",
            "4000000 50.61506 -16.99099 -92.37239\n",
            "5000000 49.40493 -30.83526 -103.00124\n",
            "6000000 46.64675 -43.61601 -112.52348\n",
            "7000000 42.61580 -54.90080 -120.46947\n",
            "8000000 37.61426 -64.66983 -126.77887\n",
            "9000000 31.90538 -73.13320 -131.61612\n",
            "10000000 25.69501 -80.57145 -135.20873\n",
            "10177620 24.55190 -81.80650 -135.73313\n"
          ],
          "name": "stdout"
        }
      ]
    },
    {
      "cell_type": "code",
      "metadata": {
        "id": "kUFxYTvMOx7j"
      },
      "source": [
        ""
      ],
      "execution_count": null,
      "outputs": []
    },
    {
      "cell_type": "markdown",
      "metadata": {
        "id": "5MGvSyT3Oy3T"
      },
      "source": [
        ""
      ]
    }
  ]
}